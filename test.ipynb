{
 "cells": [
  {
   "cell_type": "code",
   "execution_count": 46,
   "metadata": {},
   "outputs": [],
   "source": [
    "import pandas as pd\n",
    "import requests\n",
    "import pprint\n",
    "from icecream import ic\n",
    "import numpy as np\n",
    "from difflib import get_close_matches"
   ]
  },
  {
   "cell_type": "code",
   "execution_count": 82,
   "metadata": {},
   "outputs": [],
   "source": [
    "df = pd.read_excel('Municipios_Corrigir.xlsx')\n",
    "df = df[df['ESTADO'].notnull()]\n",
    "df = df[df['CIDADE'].notnull()]"
   ]
  },
  {
   "cell_type": "code",
   "execution_count": 44,
   "metadata": {},
   "outputs": [
    {
     "name": "stdout",
     "output_type": "stream",
     "text": [
      "18\n"
     ]
    }
   ],
   "source": [
    "print(df['ESTADO'].unique().size)"
   ]
  },
  {
   "cell_type": "code",
   "execution_count": 41,
   "metadata": {},
   "outputs": [
    {
     "data": {
      "text/html": [
       "<div>\n",
       "<style scoped>\n",
       "    .dataframe tbody tr th:only-of-type {\n",
       "        vertical-align: middle;\n",
       "    }\n",
       "\n",
       "    .dataframe tbody tr th {\n",
       "        vertical-align: top;\n",
       "    }\n",
       "\n",
       "    .dataframe thead th {\n",
       "        text-align: right;\n",
       "    }\n",
       "</style>\n",
       "<table border=\"1\" class=\"dataframe\">\n",
       "  <thead>\n",
       "    <tr style=\"text-align: right;\">\n",
       "      <th></th>\n",
       "      <th>CIDADE</th>\n",
       "      <th>ESTADO</th>\n",
       "    </tr>\n",
       "  </thead>\n",
       "  <tbody>\n",
       "    <tr>\n",
       "      <th>0</th>\n",
       "      <td>NaN</td>\n",
       "      <td>DF</td>\n",
       "    </tr>\n",
       "    <tr>\n",
       "      <th>1</th>\n",
       "      <td>AN?POLIS</td>\n",
       "      <td>GO</td>\n",
       "    </tr>\n",
       "    <tr>\n",
       "      <th>2</th>\n",
       "      <td>S¿O JOS¿ DO RIO PRETO</td>\n",
       "      <td>SP</td>\n",
       "    </tr>\n",
       "    <tr>\n",
       "      <th>3</th>\n",
       "      <td>S?O CAETANO DO SUL</td>\n",
       "      <td>SP</td>\n",
       "    </tr>\n",
       "    <tr>\n",
       "      <th>4</th>\n",
       "      <td>S?O JOS? DO RIO PRETO</td>\n",
       "      <td>SP</td>\n",
       "    </tr>\n",
       "  </tbody>\n",
       "</table>\n",
       "</div>"
      ],
      "text/plain": [
       "                  CIDADE ESTADO\n",
       "0                    NaN     DF\n",
       "1               AN?POLIS     GO\n",
       "2  S¿O JOS¿ DO RIO PRETO     SP\n",
       "3     S?O CAETANO DO SUL     SP\n",
       "4  S?O JOS? DO RIO PRETO     SP"
      ]
     },
     "execution_count": 41,
     "metadata": {},
     "output_type": "execute_result"
    }
   ],
   "source": [
    "df.head()"
   ]
  },
  {
   "cell_type": "code",
   "execution_count": 29,
   "metadata": {},
   "outputs": [],
   "source": [
    "def get_brazilian_states():\n",
    "    url = \"https://servicodados.ibge.gov.br/api/v1/localidades/estados\"\n",
    "    response = requests.get(url)\n",
    "    \n",
    "    if response.status_code == 200:\n",
    "        states = response.json()\n",
    "        return states\n",
    "    else:\n",
    "        raise Exception(f\"Failed to retrieve data: {response.status_code}\")"
   ]
  },
  {
   "cell_type": "code",
   "execution_count": 27,
   "metadata": {},
   "outputs": [],
   "source": [
    "def create_state_dict(states):\n",
    "    state_dict = {state['sigla']: state['id'] for state in states}\n",
    "    return state_dict"
   ]
  },
  {
   "cell_type": "code",
   "execution_count": 28,
   "metadata": {},
   "outputs": [
    {
     "name": "stderr",
     "output_type": "stream",
     "text": [
      "ic| response.status_code: 200\n",
      "ic| 'teste'\n"
     ]
    }
   ],
   "source": [
    "states = get_brazilian_states()\n",
    "state_dict = create_state_dict(states)"
   ]
  },
  {
   "cell_type": "code",
   "execution_count": 47,
   "metadata": {},
   "outputs": [],
   "source": [
    "def get_cities_by_state(state_id):\n",
    "    url = f\"https://servicodados.ibge.gov.br/api/v1/localidades/estados/{state_id}/municipios\"\n",
    "    response = requests.get(url)\n",
    "    \n",
    "    if response.status_code == 200:\n",
    "        cities = response.json()\n",
    "        return [city['nome'] for city in cities]\n",
    "    else:\n",
    "        raise Exception(f\"Failed to retrieve data: {response.status_code}\")"
   ]
  },
  {
   "cell_type": "code",
   "execution_count": 83,
   "metadata": {},
   "outputs": [],
   "source": [
    "def fix_cities_names(df, state_dict):\n",
    "    for sigla in df['ESTADO'].unique():\n",
    "        state_id = state_dict.get(sigla)\n",
    "        if state_id:\n",
    "            city_names_api = get_cities_by_state(state_id)\n",
    "\n",
    "            for index, row in df[df['ESTADO'] == sigla].iterrows():\n",
    "                city_name = row['CIDADE']\n",
    "                city_name = city_name.replace('?', '').title()\n",
    "                city_name = city_name.replace('¿', '')\n",
    "                \n",
    "                closest_match = get_close_matches(city_name, city_names_api)\n",
    "                if closest_match:\n",
    "                    df.at[index, 'CIDADE_FIX'] = closest_match[0]\n",
    "    \n",
    "    return df"
   ]
  },
  {
   "cell_type": "code",
   "execution_count": 84,
   "metadata": {},
   "outputs": [],
   "source": [
    "df = fix_cities_names(df, state_dict)"
   ]
  },
  {
   "cell_type": "code",
   "execution_count": 85,
   "metadata": {},
   "outputs": [
    {
     "data": {
      "text/html": [
       "<div>\n",
       "<style scoped>\n",
       "    .dataframe tbody tr th:only-of-type {\n",
       "        vertical-align: middle;\n",
       "    }\n",
       "\n",
       "    .dataframe tbody tr th {\n",
       "        vertical-align: top;\n",
       "    }\n",
       "\n",
       "    .dataframe thead th {\n",
       "        text-align: right;\n",
       "    }\n",
       "</style>\n",
       "<table border=\"1\" class=\"dataframe\">\n",
       "  <thead>\n",
       "    <tr style=\"text-align: right;\">\n",
       "      <th></th>\n",
       "      <th>CIDADE</th>\n",
       "      <th>ESTADO</th>\n",
       "      <th>CIDADE_FIX</th>\n",
       "    </tr>\n",
       "  </thead>\n",
       "  <tbody>\n",
       "    <tr>\n",
       "      <th>1</th>\n",
       "      <td>AN?POLIS</td>\n",
       "      <td>GO</td>\n",
       "      <td>Anápolis</td>\n",
       "    </tr>\n",
       "    <tr>\n",
       "      <th>2</th>\n",
       "      <td>S¿O JOS¿ DO RIO PRETO</td>\n",
       "      <td>SP</td>\n",
       "      <td>São José do Rio Preto</td>\n",
       "    </tr>\n",
       "    <tr>\n",
       "      <th>3</th>\n",
       "      <td>S?O CAETANO DO SUL</td>\n",
       "      <td>SP</td>\n",
       "      <td>São Caetano do Sul</td>\n",
       "    </tr>\n",
       "    <tr>\n",
       "      <th>4</th>\n",
       "      <td>S?O JOS? DO RIO PRETO</td>\n",
       "      <td>SP</td>\n",
       "      <td>São José do Rio Preto</td>\n",
       "    </tr>\n",
       "    <tr>\n",
       "      <th>5</th>\n",
       "      <td>TABO?O DA SERRA</td>\n",
       "      <td>SP</td>\n",
       "      <td>Taboão da Serra</td>\n",
       "    </tr>\n",
       "    <tr>\n",
       "      <th>6</th>\n",
       "      <td>JUNDIA?</td>\n",
       "      <td>SP</td>\n",
       "      <td>Jundiaí</td>\n",
       "    </tr>\n",
       "    <tr>\n",
       "      <th>7</th>\n",
       "      <td>GUARUJ¿</td>\n",
       "      <td>SP</td>\n",
       "      <td>Guarujá</td>\n",
       "    </tr>\n",
       "    <tr>\n",
       "      <th>8</th>\n",
       "      <td>SAO B.DO CAMPO</td>\n",
       "      <td>SP</td>\n",
       "      <td>São Bernardo do Campo</td>\n",
       "    </tr>\n",
       "    <tr>\n",
       "      <th>9</th>\n",
       "      <td>CAMB?</td>\n",
       "      <td>PR</td>\n",
       "      <td>Cambé</td>\n",
       "    </tr>\n",
       "    <tr>\n",
       "      <th>10</th>\n",
       "      <td>SERT?OZINHO</td>\n",
       "      <td>SP</td>\n",
       "      <td>Sertãozinho</td>\n",
       "    </tr>\n",
       "  </tbody>\n",
       "</table>\n",
       "</div>"
      ],
      "text/plain": [
       "                   CIDADE ESTADO             CIDADE_FIX\n",
       "1                AN?POLIS     GO               Anápolis\n",
       "2   S¿O JOS¿ DO RIO PRETO     SP  São José do Rio Preto\n",
       "3      S?O CAETANO DO SUL     SP     São Caetano do Sul\n",
       "4   S?O JOS? DO RIO PRETO     SP  São José do Rio Preto\n",
       "5         TABO?O DA SERRA     SP        Taboão da Serra\n",
       "6                 JUNDIA?     SP                Jundiaí\n",
       "7                 GUARUJ¿     SP                Guarujá\n",
       "8          SAO B.DO CAMPO     SP  São Bernardo do Campo\n",
       "9                   CAMB?     PR                  Cambé\n",
       "10            SERT?OZINHO     SP            Sertãozinho"
      ]
     },
     "execution_count": 85,
     "metadata": {},
     "output_type": "execute_result"
    }
   ],
   "source": [
    "df.head(10)"
   ]
  }
 ],
 "metadata": {
  "kernelspec": {
   "display_name": "Python_envs",
   "language": "python",
   "name": "python3"
  },
  "language_info": {
   "codemirror_mode": {
    "name": "ipython",
    "version": 3
   },
   "file_extension": ".py",
   "mimetype": "text/x-python",
   "name": "python",
   "nbconvert_exporter": "python",
   "pygments_lexer": "ipython3",
   "version": "3.12.4"
  }
 },
 "nbformat": 4,
 "nbformat_minor": 2
}
